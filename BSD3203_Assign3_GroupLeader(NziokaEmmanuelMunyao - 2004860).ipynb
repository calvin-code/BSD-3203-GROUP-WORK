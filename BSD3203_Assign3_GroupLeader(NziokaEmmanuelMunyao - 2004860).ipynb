{
  "nbformat": 4,
  "nbformat_minor": 0,
  "metadata": {
    "colab": {
      "provenance": []
    },
    "kernelspec": {
      "name": "python3",
      "display_name": "Python 3"
    },
    "language_info": {
      "name": "python"
    }
  },
  "cells": [
    {
      "cell_type": "code",
      "execution_count": null,
      "metadata": {
        "id": "CpBq9eUOZW9b"
      },
      "outputs": [],
      "source": []
    },
    {
      "cell_type": "code",
      "source": [
        "# Import required libraries\n",
        "import pandas as pd  # For data handling\n",
        "import numpy as np  # For numerical computations\n",
        "import matplotlib.pyplot as plt  # For visualization\n",
        "import seaborn as sns  # Advanced visualization\n",
        "import scipy.stats as stats  # For statistical calculations\n",
        "# Mount Google Drive (if dataset is stored there)\n",
        "from google.colab import files\n",
        "# Upload the CSV file manually in Colab\n",
        "uploaded = files.upload()\n",
        "# Load the dataset\n",
        "df = pd.read_csv(\"sales_data.csv\")\n",
        "# Display the first few rows of the dataset\n",
        "df.head()"
      ],
      "metadata": {
        "colab": {
          "base_uri": "https://localhost:8080/",
          "height": 262
        },
        "id": "3lEaOCKfZnXI",
        "outputId": "048abd46-52ea-465e-be78-433c664e3426"
      },
      "execution_count": 1,
      "outputs": [
        {
          "output_type": "display_data",
          "data": {
            "text/plain": [
              "<IPython.core.display.HTML object>"
            ],
            "text/html": [
              "\n",
              "     <input type=\"file\" id=\"files-d11f066c-97ad-4548-8c85-2467bd9b0de5\" name=\"files[]\" multiple disabled\n",
              "        style=\"border:none\" />\n",
              "     <output id=\"result-d11f066c-97ad-4548-8c85-2467bd9b0de5\">\n",
              "      Upload widget is only available when the cell has been executed in the\n",
              "      current browser session. Please rerun this cell to enable.\n",
              "      </output>\n",
              "      <script>// Copyright 2017 Google LLC\n",
              "//\n",
              "// Licensed under the Apache License, Version 2.0 (the \"License\");\n",
              "// you may not use this file except in compliance with the License.\n",
              "// You may obtain a copy of the License at\n",
              "//\n",
              "//      http://www.apache.org/licenses/LICENSE-2.0\n",
              "//\n",
              "// Unless required by applicable law or agreed to in writing, software\n",
              "// distributed under the License is distributed on an \"AS IS\" BASIS,\n",
              "// WITHOUT WARRANTIES OR CONDITIONS OF ANY KIND, either express or implied.\n",
              "// See the License for the specific language governing permissions and\n",
              "// limitations under the License.\n",
              "\n",
              "/**\n",
              " * @fileoverview Helpers for google.colab Python module.\n",
              " */\n",
              "(function(scope) {\n",
              "function span(text, styleAttributes = {}) {\n",
              "  const element = document.createElement('span');\n",
              "  element.textContent = text;\n",
              "  for (const key of Object.keys(styleAttributes)) {\n",
              "    element.style[key] = styleAttributes[key];\n",
              "  }\n",
              "  return element;\n",
              "}\n",
              "\n",
              "// Max number of bytes which will be uploaded at a time.\n",
              "const MAX_PAYLOAD_SIZE = 100 * 1024;\n",
              "\n",
              "function _uploadFiles(inputId, outputId) {\n",
              "  const steps = uploadFilesStep(inputId, outputId);\n",
              "  const outputElement = document.getElementById(outputId);\n",
              "  // Cache steps on the outputElement to make it available for the next call\n",
              "  // to uploadFilesContinue from Python.\n",
              "  outputElement.steps = steps;\n",
              "\n",
              "  return _uploadFilesContinue(outputId);\n",
              "}\n",
              "\n",
              "// This is roughly an async generator (not supported in the browser yet),\n",
              "// where there are multiple asynchronous steps and the Python side is going\n",
              "// to poll for completion of each step.\n",
              "// This uses a Promise to block the python side on completion of each step,\n",
              "// then passes the result of the previous step as the input to the next step.\n",
              "function _uploadFilesContinue(outputId) {\n",
              "  const outputElement = document.getElementById(outputId);\n",
              "  const steps = outputElement.steps;\n",
              "\n",
              "  const next = steps.next(outputElement.lastPromiseValue);\n",
              "  return Promise.resolve(next.value.promise).then((value) => {\n",
              "    // Cache the last promise value to make it available to the next\n",
              "    // step of the generator.\n",
              "    outputElement.lastPromiseValue = value;\n",
              "    return next.value.response;\n",
              "  });\n",
              "}\n",
              "\n",
              "/**\n",
              " * Generator function which is called between each async step of the upload\n",
              " * process.\n",
              " * @param {string} inputId Element ID of the input file picker element.\n",
              " * @param {string} outputId Element ID of the output display.\n",
              " * @return {!Iterable<!Object>} Iterable of next steps.\n",
              " */\n",
              "function* uploadFilesStep(inputId, outputId) {\n",
              "  const inputElement = document.getElementById(inputId);\n",
              "  inputElement.disabled = false;\n",
              "\n",
              "  const outputElement = document.getElementById(outputId);\n",
              "  outputElement.innerHTML = '';\n",
              "\n",
              "  const pickedPromise = new Promise((resolve) => {\n",
              "    inputElement.addEventListener('change', (e) => {\n",
              "      resolve(e.target.files);\n",
              "    });\n",
              "  });\n",
              "\n",
              "  const cancel = document.createElement('button');\n",
              "  inputElement.parentElement.appendChild(cancel);\n",
              "  cancel.textContent = 'Cancel upload';\n",
              "  const cancelPromise = new Promise((resolve) => {\n",
              "    cancel.onclick = () => {\n",
              "      resolve(null);\n",
              "    };\n",
              "  });\n",
              "\n",
              "  // Wait for the user to pick the files.\n",
              "  const files = yield {\n",
              "    promise: Promise.race([pickedPromise, cancelPromise]),\n",
              "    response: {\n",
              "      action: 'starting',\n",
              "    }\n",
              "  };\n",
              "\n",
              "  cancel.remove();\n",
              "\n",
              "  // Disable the input element since further picks are not allowed.\n",
              "  inputElement.disabled = true;\n",
              "\n",
              "  if (!files) {\n",
              "    return {\n",
              "      response: {\n",
              "        action: 'complete',\n",
              "      }\n",
              "    };\n",
              "  }\n",
              "\n",
              "  for (const file of files) {\n",
              "    const li = document.createElement('li');\n",
              "    li.append(span(file.name, {fontWeight: 'bold'}));\n",
              "    li.append(span(\n",
              "        `(${file.type || 'n/a'}) - ${file.size} bytes, ` +\n",
              "        `last modified: ${\n",
              "            file.lastModifiedDate ? file.lastModifiedDate.toLocaleDateString() :\n",
              "                                    'n/a'} - `));\n",
              "    const percent = span('0% done');\n",
              "    li.appendChild(percent);\n",
              "\n",
              "    outputElement.appendChild(li);\n",
              "\n",
              "    const fileDataPromise = new Promise((resolve) => {\n",
              "      const reader = new FileReader();\n",
              "      reader.onload = (e) => {\n",
              "        resolve(e.target.result);\n",
              "      };\n",
              "      reader.readAsArrayBuffer(file);\n",
              "    });\n",
              "    // Wait for the data to be ready.\n",
              "    let fileData = yield {\n",
              "      promise: fileDataPromise,\n",
              "      response: {\n",
              "        action: 'continue',\n",
              "      }\n",
              "    };\n",
              "\n",
              "    // Use a chunked sending to avoid message size limits. See b/62115660.\n",
              "    let position = 0;\n",
              "    do {\n",
              "      const length = Math.min(fileData.byteLength - position, MAX_PAYLOAD_SIZE);\n",
              "      const chunk = new Uint8Array(fileData, position, length);\n",
              "      position += length;\n",
              "\n",
              "      const base64 = btoa(String.fromCharCode.apply(null, chunk));\n",
              "      yield {\n",
              "        response: {\n",
              "          action: 'append',\n",
              "          file: file.name,\n",
              "          data: base64,\n",
              "        },\n",
              "      };\n",
              "\n",
              "      let percentDone = fileData.byteLength === 0 ?\n",
              "          100 :\n",
              "          Math.round((position / fileData.byteLength) * 100);\n",
              "      percent.textContent = `${percentDone}% done`;\n",
              "\n",
              "    } while (position < fileData.byteLength);\n",
              "  }\n",
              "\n",
              "  // All done.\n",
              "  yield {\n",
              "    response: {\n",
              "      action: 'complete',\n",
              "    }\n",
              "  };\n",
              "}\n",
              "\n",
              "scope.google = scope.google || {};\n",
              "scope.google.colab = scope.google.colab || {};\n",
              "scope.google.colab._files = {\n",
              "  _uploadFiles,\n",
              "  _uploadFilesContinue,\n",
              "};\n",
              "})(self);\n",
              "</script> "
            ]
          },
          "metadata": {}
        },
        {
          "output_type": "stream",
          "name": "stdout",
          "text": [
            "Saving sales_data.csv to sales_data.csv\n"
          ]
        },
        {
          "output_type": "execute_result",
          "data": {
            "text/plain": [
              "  Order_ID Customer_ID  Order_Date Product_Category  Product_Price  Quantity  \\\n",
              "0    O0001        C039  01/01/2023      Electronics          43.45         3   \n",
              "1    O0002        C029  01/02/2023            Books          32.77         4   \n",
              "2    O0003        C015  01/03/2023            Books          44.84         3   \n",
              "3    O0004        C043  01/04/2023            Books            NaN         1   \n",
              "4    O0005        C008  01/05/2023       Home Decor          23.01         1   \n",
              "\n",
              "  Payment_Method Region  \n",
              "0    Credit Card  North  \n",
              "1         Paypal  South  \n",
              "2    Credit Card  North  \n",
              "3    Credit Card  North  \n",
              "4         Paypal  South  "
            ],
            "text/html": [
              "\n",
              "  <div id=\"df-32bab94b-eab8-484a-b115-15abcdb938b0\" class=\"colab-df-container\">\n",
              "    <div>\n",
              "<style scoped>\n",
              "    .dataframe tbody tr th:only-of-type {\n",
              "        vertical-align: middle;\n",
              "    }\n",
              "\n",
              "    .dataframe tbody tr th {\n",
              "        vertical-align: top;\n",
              "    }\n",
              "\n",
              "    .dataframe thead th {\n",
              "        text-align: right;\n",
              "    }\n",
              "</style>\n",
              "<table border=\"1\" class=\"dataframe\">\n",
              "  <thead>\n",
              "    <tr style=\"text-align: right;\">\n",
              "      <th></th>\n",
              "      <th>Order_ID</th>\n",
              "      <th>Customer_ID</th>\n",
              "      <th>Order_Date</th>\n",
              "      <th>Product_Category</th>\n",
              "      <th>Product_Price</th>\n",
              "      <th>Quantity</th>\n",
              "      <th>Payment_Method</th>\n",
              "      <th>Region</th>\n",
              "    </tr>\n",
              "  </thead>\n",
              "  <tbody>\n",
              "    <tr>\n",
              "      <th>0</th>\n",
              "      <td>O0001</td>\n",
              "      <td>C039</td>\n",
              "      <td>01/01/2023</td>\n",
              "      <td>Electronics</td>\n",
              "      <td>43.45</td>\n",
              "      <td>3</td>\n",
              "      <td>Credit Card</td>\n",
              "      <td>North</td>\n",
              "    </tr>\n",
              "    <tr>\n",
              "      <th>1</th>\n",
              "      <td>O0002</td>\n",
              "      <td>C029</td>\n",
              "      <td>01/02/2023</td>\n",
              "      <td>Books</td>\n",
              "      <td>32.77</td>\n",
              "      <td>4</td>\n",
              "      <td>Paypal</td>\n",
              "      <td>South</td>\n",
              "    </tr>\n",
              "    <tr>\n",
              "      <th>2</th>\n",
              "      <td>O0003</td>\n",
              "      <td>C015</td>\n",
              "      <td>01/03/2023</td>\n",
              "      <td>Books</td>\n",
              "      <td>44.84</td>\n",
              "      <td>3</td>\n",
              "      <td>Credit Card</td>\n",
              "      <td>North</td>\n",
              "    </tr>\n",
              "    <tr>\n",
              "      <th>3</th>\n",
              "      <td>O0004</td>\n",
              "      <td>C043</td>\n",
              "      <td>01/04/2023</td>\n",
              "      <td>Books</td>\n",
              "      <td>NaN</td>\n",
              "      <td>1</td>\n",
              "      <td>Credit Card</td>\n",
              "      <td>North</td>\n",
              "    </tr>\n",
              "    <tr>\n",
              "      <th>4</th>\n",
              "      <td>O0005</td>\n",
              "      <td>C008</td>\n",
              "      <td>01/05/2023</td>\n",
              "      <td>Home Decor</td>\n",
              "      <td>23.01</td>\n",
              "      <td>1</td>\n",
              "      <td>Paypal</td>\n",
              "      <td>South</td>\n",
              "    </tr>\n",
              "  </tbody>\n",
              "</table>\n",
              "</div>\n",
              "    <div class=\"colab-df-buttons\">\n",
              "\n",
              "  <div class=\"colab-df-container\">\n",
              "    <button class=\"colab-df-convert\" onclick=\"convertToInteractive('df-32bab94b-eab8-484a-b115-15abcdb938b0')\"\n",
              "            title=\"Convert this dataframe to an interactive table.\"\n",
              "            style=\"display:none;\">\n",
              "\n",
              "  <svg xmlns=\"http://www.w3.org/2000/svg\" height=\"24px\" viewBox=\"0 -960 960 960\">\n",
              "    <path d=\"M120-120v-720h720v720H120Zm60-500h600v-160H180v160Zm220 220h160v-160H400v160Zm0 220h160v-160H400v160ZM180-400h160v-160H180v160Zm440 0h160v-160H620v160ZM180-180h160v-160H180v160Zm440 0h160v-160H620v160Z\"/>\n",
              "  </svg>\n",
              "    </button>\n",
              "\n",
              "  <style>\n",
              "    .colab-df-container {\n",
              "      display:flex;\n",
              "      gap: 12px;\n",
              "    }\n",
              "\n",
              "    .colab-df-convert {\n",
              "      background-color: #E8F0FE;\n",
              "      border: none;\n",
              "      border-radius: 50%;\n",
              "      cursor: pointer;\n",
              "      display: none;\n",
              "      fill: #1967D2;\n",
              "      height: 32px;\n",
              "      padding: 0 0 0 0;\n",
              "      width: 32px;\n",
              "    }\n",
              "\n",
              "    .colab-df-convert:hover {\n",
              "      background-color: #E2EBFA;\n",
              "      box-shadow: 0px 1px 2px rgba(60, 64, 67, 0.3), 0px 1px 3px 1px rgba(60, 64, 67, 0.15);\n",
              "      fill: #174EA6;\n",
              "    }\n",
              "\n",
              "    .colab-df-buttons div {\n",
              "      margin-bottom: 4px;\n",
              "    }\n",
              "\n",
              "    [theme=dark] .colab-df-convert {\n",
              "      background-color: #3B4455;\n",
              "      fill: #D2E3FC;\n",
              "    }\n",
              "\n",
              "    [theme=dark] .colab-df-convert:hover {\n",
              "      background-color: #434B5C;\n",
              "      box-shadow: 0px 1px 3px 1px rgba(0, 0, 0, 0.15);\n",
              "      filter: drop-shadow(0px 1px 2px rgba(0, 0, 0, 0.3));\n",
              "      fill: #FFFFFF;\n",
              "    }\n",
              "  </style>\n",
              "\n",
              "    <script>\n",
              "      const buttonEl =\n",
              "        document.querySelector('#df-32bab94b-eab8-484a-b115-15abcdb938b0 button.colab-df-convert');\n",
              "      buttonEl.style.display =\n",
              "        google.colab.kernel.accessAllowed ? 'block' : 'none';\n",
              "\n",
              "      async function convertToInteractive(key) {\n",
              "        const element = document.querySelector('#df-32bab94b-eab8-484a-b115-15abcdb938b0');\n",
              "        const dataTable =\n",
              "          await google.colab.kernel.invokeFunction('convertToInteractive',\n",
              "                                                    [key], {});\n",
              "        if (!dataTable) return;\n",
              "\n",
              "        const docLinkHtml = 'Like what you see? Visit the ' +\n",
              "          '<a target=\"_blank\" href=https://colab.research.google.com/notebooks/data_table.ipynb>data table notebook</a>'\n",
              "          + ' to learn more about interactive tables.';\n",
              "        element.innerHTML = '';\n",
              "        dataTable['output_type'] = 'display_data';\n",
              "        await google.colab.output.renderOutput(dataTable, element);\n",
              "        const docLink = document.createElement('div');\n",
              "        docLink.innerHTML = docLinkHtml;\n",
              "        element.appendChild(docLink);\n",
              "      }\n",
              "    </script>\n",
              "  </div>\n",
              "\n",
              "\n",
              "<div id=\"df-ab11b495-2985-43e9-a4e0-7efd5439b444\">\n",
              "  <button class=\"colab-df-quickchart\" onclick=\"quickchart('df-ab11b495-2985-43e9-a4e0-7efd5439b444')\"\n",
              "            title=\"Suggest charts\"\n",
              "            style=\"display:none;\">\n",
              "\n",
              "<svg xmlns=\"http://www.w3.org/2000/svg\" height=\"24px\"viewBox=\"0 0 24 24\"\n",
              "     width=\"24px\">\n",
              "    <g>\n",
              "        <path d=\"M19 3H5c-1.1 0-2 .9-2 2v14c0 1.1.9 2 2 2h14c1.1 0 2-.9 2-2V5c0-1.1-.9-2-2-2zM9 17H7v-7h2v7zm4 0h-2V7h2v10zm4 0h-2v-4h2v4z\"/>\n",
              "    </g>\n",
              "</svg>\n",
              "  </button>\n",
              "\n",
              "<style>\n",
              "  .colab-df-quickchart {\n",
              "      --bg-color: #E8F0FE;\n",
              "      --fill-color: #1967D2;\n",
              "      --hover-bg-color: #E2EBFA;\n",
              "      --hover-fill-color: #174EA6;\n",
              "      --disabled-fill-color: #AAA;\n",
              "      --disabled-bg-color: #DDD;\n",
              "  }\n",
              "\n",
              "  [theme=dark] .colab-df-quickchart {\n",
              "      --bg-color: #3B4455;\n",
              "      --fill-color: #D2E3FC;\n",
              "      --hover-bg-color: #434B5C;\n",
              "      --hover-fill-color: #FFFFFF;\n",
              "      --disabled-bg-color: #3B4455;\n",
              "      --disabled-fill-color: #666;\n",
              "  }\n",
              "\n",
              "  .colab-df-quickchart {\n",
              "    background-color: var(--bg-color);\n",
              "    border: none;\n",
              "    border-radius: 50%;\n",
              "    cursor: pointer;\n",
              "    display: none;\n",
              "    fill: var(--fill-color);\n",
              "    height: 32px;\n",
              "    padding: 0;\n",
              "    width: 32px;\n",
              "  }\n",
              "\n",
              "  .colab-df-quickchart:hover {\n",
              "    background-color: var(--hover-bg-color);\n",
              "    box-shadow: 0 1px 2px rgba(60, 64, 67, 0.3), 0 1px 3px 1px rgba(60, 64, 67, 0.15);\n",
              "    fill: var(--button-hover-fill-color);\n",
              "  }\n",
              "\n",
              "  .colab-df-quickchart-complete:disabled,\n",
              "  .colab-df-quickchart-complete:disabled:hover {\n",
              "    background-color: var(--disabled-bg-color);\n",
              "    fill: var(--disabled-fill-color);\n",
              "    box-shadow: none;\n",
              "  }\n",
              "\n",
              "  .colab-df-spinner {\n",
              "    border: 2px solid var(--fill-color);\n",
              "    border-color: transparent;\n",
              "    border-bottom-color: var(--fill-color);\n",
              "    animation:\n",
              "      spin 1s steps(1) infinite;\n",
              "  }\n",
              "\n",
              "  @keyframes spin {\n",
              "    0% {\n",
              "      border-color: transparent;\n",
              "      border-bottom-color: var(--fill-color);\n",
              "      border-left-color: var(--fill-color);\n",
              "    }\n",
              "    20% {\n",
              "      border-color: transparent;\n",
              "      border-left-color: var(--fill-color);\n",
              "      border-top-color: var(--fill-color);\n",
              "    }\n",
              "    30% {\n",
              "      border-color: transparent;\n",
              "      border-left-color: var(--fill-color);\n",
              "      border-top-color: var(--fill-color);\n",
              "      border-right-color: var(--fill-color);\n",
              "    }\n",
              "    40% {\n",
              "      border-color: transparent;\n",
              "      border-right-color: var(--fill-color);\n",
              "      border-top-color: var(--fill-color);\n",
              "    }\n",
              "    60% {\n",
              "      border-color: transparent;\n",
              "      border-right-color: var(--fill-color);\n",
              "    }\n",
              "    80% {\n",
              "      border-color: transparent;\n",
              "      border-right-color: var(--fill-color);\n",
              "      border-bottom-color: var(--fill-color);\n",
              "    }\n",
              "    90% {\n",
              "      border-color: transparent;\n",
              "      border-bottom-color: var(--fill-color);\n",
              "    }\n",
              "  }\n",
              "</style>\n",
              "\n",
              "  <script>\n",
              "    async function quickchart(key) {\n",
              "      const quickchartButtonEl =\n",
              "        document.querySelector('#' + key + ' button');\n",
              "      quickchartButtonEl.disabled = true;  // To prevent multiple clicks.\n",
              "      quickchartButtonEl.classList.add('colab-df-spinner');\n",
              "      try {\n",
              "        const charts = await google.colab.kernel.invokeFunction(\n",
              "            'suggestCharts', [key], {});\n",
              "      } catch (error) {\n",
              "        console.error('Error during call to suggestCharts:', error);\n",
              "      }\n",
              "      quickchartButtonEl.classList.remove('colab-df-spinner');\n",
              "      quickchartButtonEl.classList.add('colab-df-quickchart-complete');\n",
              "    }\n",
              "    (() => {\n",
              "      let quickchartButtonEl =\n",
              "        document.querySelector('#df-ab11b495-2985-43e9-a4e0-7efd5439b444 button');\n",
              "      quickchartButtonEl.style.display =\n",
              "        google.colab.kernel.accessAllowed ? 'block' : 'none';\n",
              "    })();\n",
              "  </script>\n",
              "</div>\n",
              "\n",
              "    </div>\n",
              "  </div>\n"
            ],
            "application/vnd.google.colaboratory.intrinsic+json": {
              "type": "dataframe",
              "variable_name": "df",
              "summary": "{\n  \"name\": \"df\",\n  \"rows\": 100,\n  \"fields\": [\n    {\n      \"column\": \"Order_ID\",\n      \"properties\": {\n        \"dtype\": \"string\",\n        \"num_unique_values\": 100,\n        \"samples\": [\n          \"O0084\",\n          \"O0054\",\n          \"O0071\"\n        ],\n        \"semantic_type\": \"\",\n        \"description\": \"\"\n      }\n    },\n    {\n      \"column\": \"Customer_ID\",\n      \"properties\": {\n        \"dtype\": \"category\",\n        \"num_unique_values\": 45,\n        \"samples\": [\n          \"C010\",\n          \"C016\",\n          \"C047\"\n        ],\n        \"semantic_type\": \"\",\n        \"description\": \"\"\n      }\n    },\n    {\n      \"column\": \"Order_Date\",\n      \"properties\": {\n        \"dtype\": \"object\",\n        \"num_unique_values\": 100,\n        \"samples\": [\n          \"3/25/2023\",\n          \"2/23/2023\",\n          \"03/12/2023\"\n        ],\n        \"semantic_type\": \"\",\n        \"description\": \"\"\n      }\n    },\n    {\n      \"column\": \"Product_Category\",\n      \"properties\": {\n        \"dtype\": \"category\",\n        \"num_unique_values\": 4,\n        \"samples\": [\n          \"Books\",\n          \"Clothing\",\n          \"Electronics\"\n        ],\n        \"semantic_type\": \"\",\n        \"description\": \"\"\n      }\n    },\n    {\n      \"column\": \"Product_Price\",\n      \"properties\": {\n        \"dtype\": \"number\",\n        \"std\": 20.48900430425108,\n        \"min\": -7.59,\n        \"max\": 95.47,\n        \"num_unique_values\": 95,\n        \"samples\": [\n          63.06,\n          56.9,\n          30.29\n        ],\n        \"semantic_type\": \"\",\n        \"description\": \"\"\n      }\n    },\n    {\n      \"column\": \"Quantity\",\n      \"properties\": {\n        \"dtype\": \"number\",\n        \"std\": 2,\n        \"min\": 1,\n        \"max\": 9,\n        \"num_unique_values\": 9,\n        \"samples\": [\n          7,\n          4,\n          9\n        ],\n        \"semantic_type\": \"\",\n        \"description\": \"\"\n      }\n    },\n    {\n      \"column\": \"Payment_Method\",\n      \"properties\": {\n        \"dtype\": \"category\",\n        \"num_unique_values\": 3,\n        \"samples\": [\n          \"Credit Card\",\n          \"Paypal\",\n          \"Cash on Delivery\"\n        ],\n        \"semantic_type\": \"\",\n        \"description\": \"\"\n      }\n    },\n    {\n      \"column\": \"Region\",\n      \"properties\": {\n        \"dtype\": \"category\",\n        \"num_unique_values\": 4,\n        \"samples\": [\n          \"South\",\n          \"East\",\n          \"North\"\n        ],\n        \"semantic_type\": \"\",\n        \"description\": \"\"\n      }\n    }\n  ]\n}"
            }
          },
          "metadata": {},
          "execution_count": 1
        }
      ]
    },
    {
      "cell_type": "code",
      "source": [
        "# Import datetime module\n",
        "from datetime import date\n",
        "# Get the current date and time\n",
        "current_time = date.today()\n",
        "# Display the date and time\n",
        "print(f\"Current Date and Time: {current_time}\")\n",
        "# Ensure column names are stripped of spaces\n",
        "df.columns = df.columns.str.strip()\n",
        "# Create the 'Sales' column using: Sales = Product_Price * Quantity\n",
        "if 'Product_Price' in df.columns and 'Quantity' in df.columns:\n",
        "    df['Sales'] = df['Product_Price'] * df['Quantity']\n",
        "    print(\"'Sales' column created successfully.\")\n",
        "else:\n",
        "    print(\"Error: 'Product_Price' or 'Quantity' column is missing.\")\n",
        "# Display first few rows to verify 'Sales' column\n",
        "print(df[['Product_Price', 'Quantity', 'Sales']].head())\n"
      ],
      "metadata": {
        "colab": {
          "base_uri": "https://localhost:8080/"
        },
        "id": "EiCZrsl7ahim",
        "outputId": "48039d0c-a442-4bda-9e40-21738e46c197"
      },
      "execution_count": 11,
      "outputs": [
        {
          "output_type": "stream",
          "name": "stdout",
          "text": [
            "Current Date and Time: 2025-03-31\n",
            "'Sales' column created successfully.\n",
            "   Product_Price  Quantity   Sales\n",
            "0          43.45         3  130.35\n",
            "1          32.77         4  131.08\n",
            "2          44.84         3  134.52\n",
            "3            NaN         1     NaN\n",
            "4          23.01         1   23.01\n"
          ]
        }
      ]
    },
    {
      "cell_type": "code",
      "source": [
        "mean_sales = df['Sales'].mean()\n",
        "median_sales = df['Sales'].median()\n",
        "mode_sales = df['Sales'].mode()[0]  # Mode can have multiple values, take the first\n",
        "print(\"Measures of Central Tendency:\")\n",
        "print(f\"Mean Sales: {mean_sales}\")\n",
        "print(f\"Median Sales: {median_sales}\")\n",
        "print(f\"Mode Sales: {mode_sales}\")"
      ],
      "metadata": {
        "colab": {
          "base_uri": "https://localhost:8080/"
        },
        "id": "2yAWEjksduW2",
        "outputId": "60197c01-3749-41eb-d62c-e76279070fd9"
      },
      "execution_count": 12,
      "outputs": [
        {
          "output_type": "stream",
          "name": "stdout",
          "text": [
            "Measures of Central Tendency:\n",
            "Mean Sales: 240.36694736842102\n",
            "Median Sales: 203.75\n",
            "Mode Sales: -60.72\n"
          ]
        }
      ]
    },
    {
      "cell_type": "code",
      "source": [
        "variance_sales = df['Sales'].var()\n",
        "std_dev_sales = df['Sales'].std()\n",
        "print(\"Measures of Distribution:\")\n",
        "print(f\"Variance of Sales: {variance_sales}\")\n",
        "print(f\"Standard Deviation of Sales: {std_dev_sales}\")"
      ],
      "metadata": {
        "colab": {
          "base_uri": "https://localhost:8080/"
        },
        "id": "kA7tAasjepSF",
        "outputId": "18060e9d-a9df-48fe-91fd-90edd06df724"
      },
      "execution_count": 14,
      "outputs": [
        {
          "output_type": "stream",
          "name": "stdout",
          "text": [
            "Measures of Distribution:\n",
            "Variance of Sales: 28475.56145973124\n",
            "Standard Deviation of Sales: 168.74703392869233\n"
          ]
        }
      ]
    },
    {
      "cell_type": "code",
      "source": [
        "skewness_sales = df['Sales'].skew()\n",
        "kurtosis_sales = df['Sales'].kurtosis()\n",
        "print(\"Skewness & Kurtosis Analysis:\")\n",
        "print(f\"Skewness of Sales: {skewness_sales}\")\n",
        "print(f\"Kurtosis of Sales: {kurtosis_sales}\")"
      ],
      "metadata": {
        "colab": {
          "base_uri": "https://localhost:8080/"
        },
        "id": "nFaT7mB_fOPb",
        "outputId": "75708a05-dfb1-44cf-f491-5c6cfe297a68"
      },
      "execution_count": 16,
      "outputs": [
        {
          "output_type": "stream",
          "name": "stdout",
          "text": [
            "Skewness & Kurtosis Analysis:\n",
            "Skewness of Sales: 0.6797635101311076\n",
            "Kurtosis of Sales: 0.22130403355887607\n"
          ]
        }
      ]
    },
    {
      "cell_type": "code",
      "source": [
        "# 2a) Create a histogram to analyze Sales distribution\n",
        "plt.figure(figsize=(8, 5))\n",
        "sns.histplot(df['Sales'], bins=20, kde=True, color='blue')\n",
        "plt.title(\"Histogram of Sales\")\n",
        "plt.xlabel(\"Sales\")\n",
        "plt.ylabel(\"Frequency\")\n",
        "plt.show()"
      ],
      "metadata": {
        "colab": {
          "base_uri": "https://localhost:8080/",
          "height": 487
        },
        "id": "tAIzsSK0f5u7",
        "outputId": "cbe10ce3-655f-48f4-8dec-99a6716154c7"
      },
      "execution_count": 22,
      "outputs": [
        {
          "output_type": "display_data",
          "data": {
            "text/plain": [
              "<Figure size 800x500 with 1 Axes>"
            ],
            "image/png": "[encoded data removed]"
          },
          "metadata": {}
        }
      ]
    },
    {
      "source": [
        "# 2b) Generate a stem-and-leaf plot (Simulated using a text-based approach)\n",
        "def stem_and_leaf_plot(series):\n",
        "    # Drop missing values (NaN) before processing\n",
        "    series_sorted = sorted(series.dropna())\n",
        "    stems = {}\n",
        "    for value in series_sorted:\n",
        "        stem, leaf = divmod(int(value), 10)\n",
        "        stems.setdefault(stem, []).append(leaf)\n",
        "    for stem, leaves in stems.items():\n",
        "        print(f\"{stem} | {' '.join(map(str, leaves))}\")\n",
        "print(\"Stem-and-leaf plot for Sales:\")\n",
        "stem_and_leaf_plot(df['Sales'])"
      ],
      "cell_type": "code",
      "metadata": {
        "colab": {
          "base_uri": "https://localhost:8080/"
        },
        "id": "1EtDpv0pgps6",
        "outputId": "aae59141-9fb5-4792-d817-21ce46324741"
      },
      "execution_count": 19,
      "outputs": [
        {
          "output_type": "stream",
          "name": "stdout",
          "text": [
            "Stem-and-leaf plot for Sales:\n",
            "-6 | 0\n",
            "0 | 0 1 8\n",
            "1 | 2\n",
            "2 | 3 8\n",
            "3 | 3 6 7\n",
            "5 | 2 8 8\n",
            "6 | 0 4 6 9\n",
            "7 | 4 5\n",
            "8 | 4 6\n",
            "9 | 0 9\n",
            "10 | 1\n",
            "11 | 5 7 7\n",
            "13 | 0 1 4 6\n",
            "14 | 6 8\n",
            "15 | 7 8 9\n",
            "16 | 0 1 6\n",
            "17 | 0 3\n",
            "18 | 6\n",
            "19 | 0 4\n",
            "20 | 0 1 1 3\n",
            "22 | 3 5\n",
            "23 | 4\n",
            "24 | 7 8 8\n",
            "25 | 4 6\n",
            "26 | 8 8\n",
            "27 | 3\n",
            "29 | 2\n",
            "30 | 1 1\n",
            "31 | 2 5 7\n",
            "33 | 0 7\n",
            "34 | 5 5 6 6 6 7 9\n",
            "36 | 1 5\n",
            "37 | 0 6\n",
            "38 | 7\n",
            "39 | 9\n",
            "41 | 1 7\n",
            "42 | 7\n",
            "44 | 1\n",
            "45 | 6\n",
            "46 | 4\n",
            "50 | 3\n",
            "52 | 4\n",
            "53 | 2\n",
            "54 | 7\n",
            "57 | 1 6\n",
            "58 | 1\n",
            "60 | 6\n",
            "80 | 0\n"
          ]
        }
      ]
    },
    {
      "cell_type": "code",
      "source": [
        "# 2c) Boxplot to identify outliers\n",
        "plt.figure(figsize=(6, 4))\n",
        "sns.boxplot(y=df['Sales'], color='lightblue')\n",
        "plt.title(\"Boxplot of Sales\")\n",
        "plt.ylabel(\"Sales\")\n",
        "plt.show()"
      ],
      "metadata": {
        "colab": {
          "base_uri": "https://localhost:8080/",
          "height": 372
        },
        "id": "VmuwUAqjgDa0",
        "outputId": "0289bad6-da72-47e6-b63d-a56305ea5a6c"
      },
      "execution_count": 20,
      "outputs": [
        {
          "output_type": "display_data",
          "data": {
            "text/plain": [
              "<Figure size 600x400 with 1 Axes>"
            ],
            "image/png": "[encoded data removed]"
          },
          "metadata": {}
        }
      ]
    },
    {
      "cell_type": "code",
      "source": [
        "# 2d) Generate a Quantile-Normal plot (Q-Q plot)\n",
        "plt.figure(figsize=(6, 4))\n",
        "stats.probplot(df['Sales'], dist=\"norm\", plot=plt)\n",
        "plt.title(\"Q-Q Plot for Sales\")\n",
        "plt.show()"
      ],
      "metadata": {
        "colab": {
          "base_uri": "https://localhost:8080/",
          "height": 410
        },
        "id": "FeBF8hkVgFiN",
        "outputId": "b7e0845f-a3e0-45d1-b346-5e95bf78f577"
      },
      "execution_count": 21,
      "outputs": [
        {
          "output_type": "display_data",
          "data": {
            "text/plain": [
              "<Figure size 600x400 with 1 Axes>"
            ],
            "image/png": "[encoded data removed]"
          },
          "metadata": {}
        }
      ]
    },
    {
      "cell_type": "code",
      "source": [
        "# 3a) Cross-tabulation of Sales transactions by Region and Product Category\n",
        "cross_tab = pd.crosstab(df['Region'], df['Product_Category'])\n",
        "print(\"Cross-tabulation of Sales by Region and Product Category:\\n\", cross_tab)\n",
        "# 3b) Calculate covariance and correlation between Sales and Quantity\n",
        "covariance = df[['Sales', 'Quantity']].cov()\n",
        "correlation = df[['Sales', 'Quantity']].corr()\n",
        "\n",
        "print(\"Covariance between Sales and Quantity:\\n\", covariance)\n",
        "print(\"Correlation between Sales and Quantity:\\n\", correlation)\n",
        "# 3c) Visualization\n",
        "\n",
        "# Barplot of total Sales per Region\n",
        "plt.figure(figsize=(8, 5))\n",
        "sns.barplot(x=df.groupby(\"Region\")[\"Sales\"].sum().index, y=df.groupby(\"Region\")[\"Sales\"].sum().values)\n",
        "plt.title(\"Total Sales per Region\")\n",
        "plt.xlabel(\"Region\")\n",
        "plt.ylabel(\"Total Sales\")\n",
        "plt.show()\n",
        "\n",
        "# Scatterplot of Sales vs Quantity\n",
        "plt.figure(figsize=(7, 5))\n",
        "sns.scatterplot(x=df['Quantity'], y=df['Sales'])\n",
        "plt.title(\"Sales vs Quantity Scatterplot\")\n",
        "plt.xlabel(\"Quantity Sold\")\n",
        "plt.ylabel(\"Sales\")\n",
        "plt.show()\n",
        "\n",
        "# Side-by-side boxplots of Sales for each Product Category\n",
        "plt.figure(figsize=(8, 5))\n",
        "sns.boxplot(x=df['Product_Category'], y=df['Sales'])\n",
        "plt.title(\"Boxplot of Sales by Product Category\")\n",
        "plt.xlabel(\"Product Category\")\n",
        "plt.ylabel(\"Sales\")\n",
        "plt.xticks(rotation=45)  # Rotate x-axis labels if needed\n",
        "plt.show()"
      ],
      "metadata": {
        "colab": {
          "base_uri": "https://localhost:8080/"
        },
        "id": "cLwHEpx6kRZn",
        "outputId": "7060598b-729a-4a4d-c554-16d413653bb1"
      },
      "execution_count": 24,
      "outputs": [
        {
          "output_type": "stream",
          "name": "stdout",
          "text": [
            "Cross-tabulation of Sales by Region and Product Category:\n",
            " Product_Category  Books  Clothing  Electronics  Home Decor\n",
            "Region                                                    \n",
            "East                  7         5            6           6\n",
            "North                 5         6            7          11\n",
            "South                 5         3            5           8\n",
            "West                  7         5            5           4\n"
          ]
        }
      ]
    },
    {
      "cell_type": "code",
      "source": [
        "# 3b) Calculate covariance and correlation between Sales and Quantity\n",
        "covariance = df[['Sales', 'Quantity']].cov()\n",
        "correlation = df[['Sales', 'Quantity']].corr()\n",
        "\n",
        "print(\"Covariance between Sales and Quantity:\\n\", covariance)\n",
        "print(\"Correlation between Sales and Quantity:\\n\", correlation)\n"
      ],
      "metadata": {
        "colab": {
          "base_uri": "https://localhost:8080/"
        },
        "id": "z98WTdqenNGd",
        "outputId": "3d97686e-7ab7-4e63-888e-b60f24918d1a"
      },
      "execution_count": 29,
      "outputs": [
        {
          "output_type": "stream",
          "name": "stdout",
          "text": [
            "Covariance between Sales and Quantity:\n",
            "                 Sales    Quantity\n",
            "Sales     28475.56146  334.905660\n",
            "Quantity    334.90566    6.539293\n",
            "Correlation between Sales and Quantity:\n",
            "              Sales  Quantity\n",
            "Sales     1.000000  0.774528\n",
            "Quantity  0.774528  1.000000\n"
          ]
        }
      ]
    },
    {
      "cell_type": "code",
      "source": [
        "# 3c) Visualization\n",
        "\n",
        "# Barplot of total Sales per Region\n",
        "plt.figure(figsize=(8, 5))\n",
        "sns.barplot(x=df.groupby(\"Region\")[\"Sales\"].sum().index, y=df.groupby(\"Region\")[\"Sales\"].sum().values)\n",
        "plt.title(\"Total Sales per Region\")\n",
        "plt.xlabel(\"Region\")\n",
        "plt.ylabel(\"Total Sales\")\n",
        "plt.show()\n",
        "\n",
        "# Scatterplot of Sales vs Quantity\n",
        "plt.figure(figsize=(7, 5))\n",
        "sns.scatterplot(x=df['Quantity'], y=df['Sales'])\n",
        "plt.title(\"Sales vs Quantity Scatterplot\")\n",
        "plt.xlabel(\"Quantity Sold\")\n",
        "plt.ylabel(\"Sales\")\n",
        "plt.show()\n",
        "\n",
        "# Side-by-side boxplots of Sales for each Product Category\n",
        "plt.figure(figsize=(8, 5))\n",
        "sns.boxplot(x=df['Product_Category'], y=df['Sales'])\n",
        "plt.title(\"Boxplot of Sales by Product Category\")\n",
        "plt.xlabel(\"Product Category\")\n",
        "plt.ylabel(\"Sales\")\n",
        "plt.xticks(rotation=45)  # Rotate x-axis labels if needed\n",
        "plt.show()"
      ],
      "metadata": {
        "colab": {
          "base_uri": "https://localhost:8080/",
          "height": 1000
        },
        "id": "fXvzjsRBnNx-",
        "outputId": "cfd5889e-5c13-48d0-d263-47ba9dcf2f5d"
      },
      "execution_count": 28,
      "outputs": [
        {
          "output_type": "display_data",
          "data": {
            "text/plain": [
              "<Figure size 800x500 with 1 Axes>"
            ],
            "image/png": "[encoded data removed]"
          },
          "metadata": {}
        },
        {
          "output_type": "display_data",
          "data": {
            "text/plain": [
              "<Figure size 700x500 with 1 Axes>"
            ],
            "image/png": "[encoded data removed]"
          },
          "metadata": {}
        },
        {
          "output_type": "display_data",
          "data": {
            "text/plain": [
              "<Figure size 800x500 with 1 Axes>"
            ],
            "image/png": "[encoded data removed]"
          },
          "metadata": {}
        }
      ]
    }
  ]
}